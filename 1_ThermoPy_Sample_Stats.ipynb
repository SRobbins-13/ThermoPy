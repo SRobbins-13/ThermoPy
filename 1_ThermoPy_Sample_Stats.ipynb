{
 "cells": [
  {
   "cell_type": "markdown",
   "metadata": {},
   "source": [
    "# <center>ThermoPy: Python-based Program for Analyzing and Visualizing Thermochronometric Data</center>\n",
    "\n",
    "## <center>Samuel Robbins, Chelsea Mackaman-Lofland</center>\n",
    "\n",
    "## <center> Notebook 1: Helium Outlier Classification and Sample Statistics </center>"
   ]
  },
  {
   "cell_type": "markdown",
   "metadata": {},
   "source": [
    "## Getting started\n",
    "You will need to have the following Jupyter packages installed to run ThermoPy:\n",
    "- pandas\n",
    "- matplotlib\n",
    "- seaborn\n",
    "- numpy\n",
    "- statsmodels\n",
    "- scipy\n",
    "- random\n",
    "- pathlib\n",
    "- **xlsxwriter**\n",
    "\n",
    "Use `pip list` in the cell below to determine which packages you already have:"
   ]
  },
  {
   "cell_type": "code",
   "execution_count": null,
   "metadata": {},
   "outputs": [],
   "source": [
    "pip list"
   ]
  },
  {
   "cell_type": "markdown",
   "metadata": {},
   "source": [
    "Install any packages that are not already downloaded using `pip install [ package name ]` in the cell below. \n",
    "\n",
    "These installations only need to be completed once – users can skip the **Getting started** steps during subsequent ThermoPy uses."
   ]
  },
  {
   "cell_type": "code",
   "execution_count": null,
   "metadata": {},
   "outputs": [],
   "source": [
    "pip install pathlib"
   ]
  },
  {
   "cell_type": "markdown",
   "metadata": {},
   "source": [
    "## 0. Import modules\n",
    "Run this cell to import the necessary Jupyter modules every time you open ThermoPy."
   ]
  },
  {
   "cell_type": "code",
   "execution_count": null,
   "metadata": {},
   "outputs": [],
   "source": [
    "# ThermoPy Functions\n",
    "import thermoFuncs as tFunc\n",
    "\n",
    "import matplotlib\n",
    "%matplotlib inline\n",
    "%config InlineBackend.figure_format = 'retina'"
   ]
  },
  {
   "cell_type": "markdown",
   "metadata": {},
   "source": [
    "--------"
   ]
  },
  {
   "cell_type": "markdown",
   "metadata": {},
   "source": [
    "## 1. Load data\n",
    "\n"
   ]
  },
  {
   "cell_type": "markdown",
   "metadata": {},
   "source": [
    "In these two steps, data are loaded from your Excel template, located using the user-specified `filepath`. (The default filepath assumes your Excel file is located in the same folder as your ThermoPy .ipynb code). The Excel file should have two worksheets:\n",
    "- a `Samples` worksheet containing sample metadata (sample name, location/elevation information, lithology, etc.).\n",
    "- an `Aliquots` worksheet containing thermochronometric data for individual aliquots.\n",
    "\n",
    "ThermoPy links the two worksheets using the Sample ID. All aliquots in the `Aliquots` worksheet should have a sample reference in the `Samples` worksheet.\n",
    "\n",
    "The outputs of this step include:\n",
    "- `samples` dataframe - _all data from the `Samples` worksheet_\n",
    "- `sample_list` - _list of all Sample IDs in the `Samples` worksheet_\n",
    "- `transect_list` - _list of all specified transects in the `Samples` worksheet_\n",
    "- `aliquots` dataframe - _all data from the `Aliquots` worksheet_\n",
    "\n",
    "\n",
    "### Best practice for sample naming schema (SampleIDs)\n",
    "\n",
    "AHe, AFT, ZHe, and ZFT samples should have chronometer codes built into the sample name. For example, if the sample AN01 has data for all four chronometers, the SampleIDs should be:\n",
    "\n",
    "- AN01 (apatite He)\n",
    "- zAN01 (zircon He)\n",
    "- AN01_AFT (apatite FT)\n",
    "- AN01_ZFT (zircon FT)"
   ]
  },
  {
   "cell_type": "code",
   "execution_count": null,
   "metadata": {},
   "outputs": [],
   "source": [
    "filepath = 'example_data/ThermoPy_example_data.xlsx'"
   ]
  },
  {
   "cell_type": "code",
   "execution_count": null,
   "metadata": {},
   "outputs": [],
   "source": [
    "samples, sample_list, transect_list, aliquots = tFunc.loadDataExcel(filepath)"
   ]
  },
  {
   "cell_type": "markdown",
   "metadata": {},
   "source": [
    "Running the code cell below is optional – it simply returns the list of all Sample IDs in the `Samples` worksheet of your Excel upload. We suggest using the Sample IDs list to double-check that your data upload was successful and as a reference once you've moved on to Step 2."
   ]
  },
  {
   "cell_type": "code",
   "execution_count": null,
   "metadata": {},
   "outputs": [],
   "source": [
    "sample_list"
   ]
  },
  {
   "cell_type": "code",
   "execution_count": null,
   "metadata": {},
   "outputs": [],
   "source": [
    "transect_list"
   ]
  },
  {
   "cell_type": "markdown",
   "metadata": {},
   "source": [
    "--------"
   ]
  },
  {
   "cell_type": "markdown",
   "metadata": {},
   "source": [
    "## 2. Plot He aliquot effective uranium (eU) & equivalent spherical radius (Rs or Rft) data\n",
    "\n",
    "The effective uranium (eU) concentration weights parent isotopes based on their alpha productivity and may serve as a proxy for total radiation damage due to alpha decay in a crystal, as described in Cooperdock et al. (2019) and Flowers et al. (2022a).\n",
    "\n",
    "The grain size of He aliquots may be represented by the **volume-equivalent spherical radius (Rs)** or the **Ft-equivalent spherical radius (Rft)**, as defined in Ketcham et al. (2011) and Cooperdock et al. (2019). The user-defined `radius` variable allows users to choose the grain size parameter that best suites their dataset.\n",
    "\n",
    "Finally, note that this step visualizes **apatite and zircon He grain data**. As such, the `Samples` list should not include any fission track (FT) samples!\n",
    "\n",
    "Inputs for this function include a user-defined `Samples` list, the **`aliquots`** dataframe created in Step 1, and a user-defined `radius` parameter (Rs or Rft). \n",
    "```\n",
    "tFunc.plot_samples_eU_Rft(Samples, aliquots, radius, savefig = True)\n",
    "```"
   ]
  },
  {
   "cell_type": "markdown",
   "metadata": {},
   "source": [
    "To plot **ALL He samples** in the database run the below cell."
   ]
  },
  {
   "cell_type": "code",
   "execution_count": null,
   "metadata": {
    "scrolled": true
   },
   "outputs": [],
   "source": [
    "## User-defined inputs\n",
    "radius = 'Rs' # Options are 'Rs' or 'Rft'. Make sure the value is present in your input file!\n",
    "plot_histogram = True # True or False\n",
    "\n",
    "# Specify Histogram parameters\n",
    "bin_width=2\n",
    "kde_overlay=True\n",
    "\n",
    "# List of ALL He samples\n",
    "all_He_samples = [sample_name for (sample_name, sample_type) in sample_list if 'HE' in sample_type.upper()]\n",
    "\n",
    "tFunc.plot_samples_eU_Rft(all_He_samples, aliquots, radius, plot_histogram, bin_width, kde_overlay, savefig = False) "
   ]
  },
  {
   "cell_type": "markdown",
   "metadata": {},
   "source": [
    "To plot **only specific He samples** in the database, add the specified samples to the list in the cell below, and run cell."
   ]
  },
  {
   "cell_type": "code",
   "execution_count": null,
   "metadata": {},
   "outputs": [],
   "source": [
    "## User-defined inputs\n",
    "radius = 'Rs' # Options are 'Rs' or 'Rft'. Make sure the value is present in your input file!\n",
    "plot_histogram = True # True or False\n",
    "\n",
    "# Specify Histogram parameters\n",
    "bin_width=3\n",
    "kde_overlay=True\n",
    "\n",
    "## To plot specific samples, fill in the below 'Samples' list, uncomment the following 2 lines of code and run cell\n",
    "He_samples_to_plot = ['AN01','zAN01','AN03','zAN03'] # User-defined list of 'SampleIDs' to plot\n",
    "\n",
    "tFunc.plot_samples_eU_Rft(He_samples_to_plot, aliquots, radius, plot_histogram, bin_width, kde_overlay, savefig = True) "
   ]
  },
  {
   "cell_type": "markdown",
   "metadata": {},
   "source": [
    "--------"
   ]
  },
  {
   "cell_type": "markdown",
   "metadata": {},
   "source": [
    "## 3. He aliquot outlier calculation and rejection/retention"
   ]
  },
  {
   "cell_type": "markdown",
   "metadata": {},
   "source": [
    "The steps below identify potential outlier aliquots for each He sample in the `sample_list` (defined in Step 1) using the He grain data in the `aliquots` dataframe.\n",
    "\n",
    "Outliers may be assessed using the Inter-Quartile Range (IQR) or Chauvenet's Criterion methods of outlier detection. Both methods assume the data are _normally distributed_.\n",
    "\n",
    "There are no outputs to this step – it only allows the user to **_view_** the default outlier classifcations based on the specified statistical method. \n",
    "\n",
    "**No sample stats are calculated in this step.**"
   ]
  },
  {
   "cell_type": "markdown",
   "metadata": {},
   "source": [
    "### <font color = royalblue> 3a. IQR outlier method"
   ]
  },
  {
   "cell_type": "code",
   "execution_count": null,
   "metadata": {},
   "outputs": [],
   "source": [
    "stat_scheme = 'IQR' # Options: IQR, Chauvenet\n",
    "\n",
    "tFunc.viewOutliers(samples, aliquots, sample_list, stat_scheme)"
   ]
  },
  {
   "cell_type": "markdown",
   "metadata": {},
   "source": [
    "### <font color = forestgreen>3b. Chauvenet's criterion "
   ]
  },
  {
   "cell_type": "code",
   "execution_count": null,
   "metadata": {},
   "outputs": [],
   "source": [
    "stat_scheme = 'Chauvenet' # Options: IQR, Chauvenet\n",
    "\n",
    "tFunc.viewOutliers(samples, aliquots, sample_list, stat_scheme)"
   ]
  },
  {
   "cell_type": "markdown",
   "metadata": {},
   "source": [
    "--------"
   ]
  },
  {
   "cell_type": "markdown",
   "metadata": {},
   "source": [
    "## 4. Calculate sample statistics and export data\n",
    "\n",
    "The code below calculates central tendency statistics and uncertainties based on the unweighted, weighted by inverse variance, and weighted by squared relative deviation equations in Table 2 of [Flowers et al. (2022b)](https://scholar.google.com/citations?view_op=view_citation&hl=en&user=TZmDk-4AAAAJ&sortby=pubdate&citation_for_view=TZmDk-4AAAAJ:yD5IFk8b50cC)."
   ]
  },
  {
   "cell_type": "markdown",
   "metadata": {},
   "source": [
    "### Calculate full sample stats"
   ]
  },
  {
   "cell_type": "markdown",
   "metadata": {},
   "source": [
    "#### <font color = salmon>Ex. I. Summary IQR Statistics w/ Defualt Outliers Rejected</font>"
   ]
  },
  {
   "cell_type": "code",
   "execution_count": null,
   "metadata": {},
   "outputs": [],
   "source": [
    "stat_scheme = 'IQR' # Options : IQR, Chauvenet\n",
    "\n",
    "keep_all_outliers = False # True or False - will mark ALL aliquot data as 'keep'\n",
    "\n",
    "aliquots_to_keep = None # None or list of aliquots [] to change from 'reject' to 'keep' – if None, default outliers will be honored\n",
    "aliquots_to_reject = None # None or list of aliquots [] to change from 'keep' to 'reject'\n",
    "\n",
    "save_data_excel = True # True or False\n",
    "filename = 'summary_statistics_IQR.xlsx'"
   ]
  },
  {
   "cell_type": "code",
   "execution_count": null,
   "metadata": {},
   "outputs": [],
   "source": [
    "sample_stats, aliquot_stats = tFunc.calculateFullSummaryStats(samples, aliquots, sample_list, \n",
    "                                                        stat_scheme, keep_all_outliers, aliquots_to_keep, aliquots_to_reject,\n",
    "                                                        save_data_excel, filename)"
   ]
  },
  {
   "cell_type": "markdown",
   "metadata": {},
   "source": [
    "#### <font color = royalblue>Ex. II. Summary IQR Statistics w/ all Outliers Kept</font>"
   ]
  },
  {
   "cell_type": "code",
   "execution_count": null,
   "metadata": {},
   "outputs": [],
   "source": [
    "stat_scheme = 'IQR' # Options : IQR, Chauvenet\n",
    "\n",
    "keep_all_outliers = True # True or False - will mark ALL aliquot data as 'keep'\n",
    "\n",
    "aliquots_to_keep = None # None or list of aliquots [] to change from 'reject' to 'keep' – if None, default outliers will be honored\n",
    "aliquots_to_reject = None # None or list of aliquots [] to change from 'keep' to 'reject'\n",
    "\n",
    "save_data_excel = True # True or False\n",
    "filename = 'summary_statistics_IQR_no_outliers.xlsx'"
   ]
  },
  {
   "cell_type": "code",
   "execution_count": null,
   "metadata": {},
   "outputs": [],
   "source": [
    "sample_stats2, aliquot_stats2 = tFunc.calculateFullSummaryStats(samples, aliquots, sample_list, \n",
    "                                                        stat_scheme, keep_all_outliers, aliquots_to_keep, aliquots_to_reject,\n",
    "                                                        save_data_excel, filename)"
   ]
  },
  {
   "cell_type": "markdown",
   "metadata": {},
   "source": [
    "#### <font color = seagreen>Ex. III. Summary Chauvenet's Statistics w/ Default Outliers Rejected</font>"
   ]
  },
  {
   "cell_type": "code",
   "execution_count": null,
   "metadata": {},
   "outputs": [],
   "source": [
    "stat_scheme = 'Chauvenet' # Options : IQR, Chauvenet\n",
    "\n",
    "keep_all_outliers = False # True or False - will mark ALL aliquot data as 'keep'\n",
    "\n",
    "aliquots_to_keep = None # None or list of aliquots [] to change from 'reject' to 'keep' – if None, default outliers will be honored\n",
    "aliquots_to_reject = None # None or list of aliquots [] to change from 'keep' to 'reject'\n",
    "\n",
    "save_data_excel = True # True or False\n",
    "filename = 'summary_statistics_Chauvenet.xlsx'"
   ]
  },
  {
   "cell_type": "code",
   "execution_count": null,
   "metadata": {},
   "outputs": [],
   "source": [
    "sample_stats3, aliquot_stats3 = tFunc.calculateFullSummaryStats(samples, aliquots, sample_list, \n",
    "                                                        stat_scheme, keep_all_outliers, aliquots_to_keep, aliquots_to_reject,\n",
    "                                                        save_data_excel, filename)"
   ]
  },
  {
   "cell_type": "markdown",
   "metadata": {},
   "source": [
    "#### <font color = orange>Ex. IV. Summary Chauvenet's Statistics w/ all Outliers Kept</font>"
   ]
  },
  {
   "cell_type": "code",
   "execution_count": null,
   "metadata": {},
   "outputs": [],
   "source": [
    "stat_scheme = 'Chauvenet' # Options : IQR, Chauvenet\n",
    "\n",
    "keep_all_outliers = True # True or False - will mark ALL aliquot data as 'keep'\n",
    "\n",
    "aliquots_to_keep = None # None or list of aliquots [] to change from 'reject' to 'keep' – if None, default outliers will be honored\n",
    "aliquots_to_reject = None # None or list of aliquots [] to change from 'keep' to 'reject'\n",
    "\n",
    "save_data_excel = True # True or False\n",
    "filename = 'summary_statistics_Chauvenet_no_outliers.xlsx'"
   ]
  },
  {
   "cell_type": "code",
   "execution_count": null,
   "metadata": {},
   "outputs": [],
   "source": [
    "sample_stats4, aliquot_stats4 = tFunc.calculateFullSummaryStats(samples, aliquots, sample_list, \n",
    "                                                        stat_scheme, keep_all_outliers, aliquots_to_keep, aliquots_to_reject,\n",
    "                                                        save_data_excel, filename)"
   ]
  },
  {
   "cell_type": "markdown",
   "metadata": {},
   "source": [
    "-------------"
   ]
  },
  {
   "cell_type": "markdown",
   "metadata": {},
   "source": [
    "## End of Notebook 1\n",
    "### Notebook 1 output (which serves as input to Notebook 2...)\n",
    "\n",
    "The output is an Excel sheet with sample statistics and outlier information, to be loaded into the second notebook in the ThermoPy series."
   ]
  },
  {
   "cell_type": "code",
   "execution_count": null,
   "metadata": {},
   "outputs": [],
   "source": []
  }
 ],
 "metadata": {
  "kernelspec": {
   "display_name": "Python 3 (ipykernel)",
   "language": "python",
   "name": "python3"
  },
  "language_info": {
   "codemirror_mode": {
    "name": "ipython",
    "version": 3
   },
   "file_extension": ".py",
   "mimetype": "text/x-python",
   "name": "python",
   "nbconvert_exporter": "python",
   "pygments_lexer": "ipython3",
   "version": "3.11.7"
  }
 },
 "nbformat": 4,
 "nbformat_minor": 4
}
