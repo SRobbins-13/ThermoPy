{
 "cells": [
  {
   "cell_type": "markdown",
   "metadata": {},
   "source": [
    "# <center>ThermoPy: Python-based Program for Analyzing and Visualizing Thermochronometric Data</center>\n",
    "\n",
    "## <center>Samuel Robbins, Chelsea Mackaman-Lofland</center>\n",
    "\n",
    "## <center> Notebook 2: Data Visualizations </center>"
   ]
  },
  {
   "cell_type": "markdown",
   "metadata": {},
   "source": [
    "## 0. Import modules\n",
    "Run this cell to import the necessary Jupyter modules every time you open ThermoPy."
   ]
  },
  {
   "cell_type": "code",
   "execution_count": null,
   "metadata": {},
   "outputs": [],
   "source": [
    "# ThermoPy Functions\n",
    "import thermoFuncs as tFunc\n",
    "\n",
    "import numpy as np\n",
    "import matplotlib\n",
    "%matplotlib inline\n",
    "%config InlineBackend.figure_format = 'retina'"
   ]
  },
  {
   "cell_type": "markdown",
   "metadata": {},
   "source": [
    "--------"
   ]
  },
  {
   "cell_type": "markdown",
   "metadata": {},
   "source": [
    "## 1. Load Summary Statistics and Aliquot Data"
   ]
  },
  {
   "cell_type": "markdown",
   "metadata": {},
   "source": [
    "In this step, the sample statistics calculated in Notebook 1 are extracted into a `samples` dataframe and an `aliquots` dataframe. The user-specified `filepath` should be the output location of your Excel sheet from Notebook 1. The Excel file should have two worksheets:\n",
    "\n",
    "- A `Samples` worksheet containing sample metadata, Mean, Standard Deviation, Standard Error, and MSWD.\n",
    "- an `Aliquots` worksheet containing thermochronometric data for individual aliquots, with outlier classifications.\n",
    "\n",
    "The output of this step includes:\n",
    "- `samples` dataframe - _all data from the `Samples` worksheet_\n",
    "- `sample_list` - _list of all samples in the `Samples` worksheet_\n",
    "- `transect_list` - _list of all specified transects in the `Samples` worksheet_\n",
    "- `aliquots` dataframe - _all data from the `Aliquots` worksheet_"
   ]
  },
  {
   "cell_type": "code",
   "execution_count": null,
   "metadata": {},
   "outputs": [],
   "source": [
    "filepath = 'example_data/summary_statistics_IQR.xlsx'\n",
    "\n",
    "samples, sample_list, transect_list, aliquots = tFunc.loadDataExcel(filepath)"
   ]
  },
  {
   "cell_type": "markdown",
   "metadata": {},
   "source": [
    "-------"
   ]
  },
  {
   "cell_type": "markdown",
   "metadata": {},
   "source": [
    "## 2. Data Visualization\n",
    "\n",
    "The following section provides several ways to visualize your thermochronometric data. These functions do not need to be run in order. All of the functions below have the option to plot the full dataset or individual transects. Check the transects in the full dataset below. \n",
    "\n",
    "\n",
    "*Plots the Longitude vs. Elevation relationship of sample data, allowing customization by chronometer, transect, and appearance settings.*"
   ]
  },
  {
   "cell_type": "code",
   "execution_count": null,
   "metadata": {},
   "outputs": [],
   "source": [
    "transect_list"
   ]
  },
  {
   "cell_type": "markdown",
   "metadata": {},
   "source": [
    "### <font color = royalblue>Elevation Profile - Full Dataset or by Transect</font>\n",
    "\n",
    "This function plots the Elevation profile against Latitude or Longitude for the dataset. The `samples` dataset (output from Step 1) is the primary input for this function. All other inputs are defined in the cell below. There are options to plot the full dataset or a specific transect. You also have the option to display your data with markers based on the type of chronometer or the sample transect. "
   ]
  },
  {
   "cell_type": "code",
   "execution_count": null,
   "metadata": {},
   "outputs": [],
   "source": [
    "# Set Dataset and Plot Details \n",
    "x_variable = 'Longitude' # 'Latitude' or 'Longitude' \n",
    "\n",
    "transect = None # default is None to show full data sheet\n",
    "colorBy = 'chronometer' # 'chronometer', 'transect'; default is None\n",
    "\n",
    "# Specify axes range, intervals, and labels\n",
    "x_bounds = None # None or (x_min, x_max)\n",
    "y_bounds = None # None or (y_min, y_max)\n",
    "\n",
    "label_samples = False # True or False\n",
    "label_offset = (0.01,0) # format is (x_offset, y_offset) - default is (0,0) \n",
    "\n",
    "# Specify the marker style for different thernochronometers - default values shown \n",
    "AHeColor = 'cornflowerblue'\n",
    "AHeMarker = 'h'\n",
    "AHeMarkerSize = 12\n",
    "\n",
    "ZHeColor = 'firebrick'\n",
    "ZHeMarker = 'D'\n",
    "ZHeMarkerSize = 8\n",
    "\n",
    "AFTColor = 'gray'\n",
    "AFTMarker = '^'\n",
    "AFTMarkerSize = 12\n",
    "\n",
    "ZFTColor = 'forestgreen'\n",
    "ZFTMarker = 'o'\n",
    "ZFTMarkerSize = 12\n",
    "\n",
    "# Save Figure \n",
    "savefig = False # True or False\n",
    "savefigFileName = 'Longitude_v_elevation' # None or specific file name \n",
    "saveFolder = 'example_plots' # None or specific folder name"
   ]
  },
  {
   "cell_type": "code",
   "execution_count": null,
   "metadata": {},
   "outputs": [],
   "source": [
    "tFunc.plotElevationProfile(samples, x_variable, transect, colorBy, \n",
    "                             x_bounds, y_bounds, label_samples, label_offset,\n",
    "                             AHeColor,  AHeMarker, AHeMarkerSize,\n",
    "                             ZHeColor, ZHeMarker, ZHeMarkerSize,\n",
    "                             AFTColor, AFTMarker, AFTMarkerSize,\n",
    "                             ZFTColor, ZFTMarker, ZFTMarkerSize,\n",
    "                             savefig, savefigFileName, saveFolder)"
   ]
  },
  {
   "cell_type": "markdown",
   "metadata": {},
   "source": [
    "--------"
   ]
  },
  {
   "cell_type": "markdown",
   "metadata": {},
   "source": [
    "### 2.1 Flexible Age Plot Functions\n",
    "The following functions plot cooling age against any other variable (Latitude, Longitude, Elevation, Structural Level) with cooling age on either the x-axis or y-axis, as specified by the user. \n",
    "\n",
    "#### <font color = royalblue>Age Versus - Full Dataset or by Transect </font>\n",
    "\n",
    "This function plots Cooling Age against a user selected variable (Latitude/Longitude/Elevation/Structural Level). There is an option to plot Age on the x- or y-axis, but <u>**_Age must be one of the variables_**</u>. The primary inputs are the `samples` and `aliquots` dataframes from Step 1. All other function inputs are defined in the cell below."
   ]
  },
  {
   "cell_type": "code",
   "execution_count": null,
   "metadata": {},
   "outputs": [],
   "source": [
    "# Set Axes and Dataset Details \n",
    "x_variable = 'Age' # 'Latitude' , 'Longitude' , 'Structural_Level' , 'Elevation_m', 'Age'\n",
    "y_variable = 'Elevation_m' # Age', 'Latitude' , 'Longitude' , 'Structural_Level' , 'Elevation_m'\n",
    "\n",
    "transect = None # default is None to show full data sheet\n",
    "show_aliquots = True # True or False\n",
    "\n",
    "# Specify Age statistics\n",
    "weightedBy = 'unweighted' # 'unweighted' , 'inverse_variance' or 'relative_deviation'\n",
    "plot_SE = True # True or False\n",
    "SE_basedOn = 'max' # Individual Uncertainty - 'IU', Standard Deviation - 'SD', or max of the two – 'max'\n",
    "\n",
    "# Specify axes range, intervals, and labels\n",
    "x_bounds = None # None or (x_min, x_max)\n",
    "y_bounds = None # None or (y_min, y_max)\n",
    "\n",
    "label_samples = True # True or False\n",
    "label_offset = (0.5,0) # format is (x_offset,y_offset) - default is (0,0)\n",
    "\n",
    "# Specify the marker style for different thermochronometers - default values shown \n",
    "AHeColor = 'cornflowerblue'\n",
    "AHeMarker = 'h'\n",
    "AHeMarkerSize = 14\n",
    "\n",
    "ZHeColor = 'firebrick'\n",
    "ZHeMarker = 'D'\n",
    "ZHeMarkerSize = 12\n",
    "\n",
    "AFTColor = 'gray'\n",
    "AFTMarker = '^'\n",
    "AFTMarkerSize = 12\n",
    "\n",
    "ZFTColor = 'forestgreen'\n",
    "ZFTMarker = 'o'\n",
    "ZFTMarkerSize = 12\n",
    "\n",
    "# Sample Regressions \n",
    "AHe_regression = False # True or False - plot the regression line and CI window for the transect\n",
    "excludeAHeOutliers = False # True or False - Exclude ALL outliers from regression\n",
    "excludeAHeSamplesRegression = None # List of specific samples to exclude from regression or None in list []\n",
    "excludeAHeAliquotsRegression = None # List of specific aliquots to exclude from regression or None \n",
    "AHeRegressionColor = 'lightsteelblue'\n",
    "\n",
    "ZHe_regression = False # True or False - plot the regression line and CI window for the transect\n",
    "excludeZHeOutliers = False # True or False - Exclude ALL outliers from regression\n",
    "excludeZHeSamplesRegression = None # List of specific samples to exclude from regression or None\n",
    "excludeZHeAliquotsRegression = None # List of specific aliquots to exclude from regression or None \n",
    "ZHeRegressionColor = 'thistle'\n",
    "\n",
    "AFTRegression = False # True or False - plot the regression line and CI window for the transect\n",
    "excludeAFTOutliers = False # True or False - Exclude ALL outliers from regression\n",
    "excludeAFTSamplesRegression = None # List of specific samples to exclude from regression or None\n",
    "excludeAFTAliquotsRegression = None # List of specific aliquots to exclude from regression or None \n",
    "AFTRegressionColor = 'gainsboro'\n",
    "\n",
    "ZFTRegression = False # True or False - plot the regression line and CI window for the transect\n",
    "excludeZFTOutliers = False # True or False - Exclude ALL outliers from regression\n",
    "excludeZFTSamplesRegression = None # List of specific samples to exclude from regression or None\n",
    "excludeZFTAliquotsRegression = None # List of specific aliquots to exclude from regression or None \n",
    "ZFTRegressionColor = 'lightgreen'\n",
    "\n",
    "# Save Figure \n",
    "savefig = False\n",
    "savefigFileName = 'Age_versus_Elevation' # None or specific file name \n",
    "saveFolder = 'example_plots' # None or specific folder name"
   ]
  },
  {
   "cell_type": "code",
   "execution_count": null,
   "metadata": {},
   "outputs": [],
   "source": [
    "tFunc.plotAgeVersus(samples, aliquots, x_variable, y_variable, transect, show_aliquots, \n",
    "                    weightedBy, plot_SE, SE_basedOn, \n",
    "                    x_bounds, y_bounds,\n",
    "                    label_samples, label_offset,\n",
    "                    AHeColor,  AHeMarker, AHeMarkerSize,\n",
    "                    ZHeColor, ZHeMarker, ZHeMarkerSize,\n",
    "                    AFTColor, AFTMarker, AFTMarkerSize,\n",
    "                    ZFTColor, ZFTMarker, ZFTMarkerSize,\n",
    "                    AHe_regression, AHeRegressionColor,\n",
    "                    excludeAHeOutliers, excludeAHeSamplesRegression , excludeAHeAliquotsRegression ,\n",
    "                    ZHe_regression , ZHeRegressionColor ,\n",
    "                    excludeZHeOutliers, excludeZHeSamplesRegression , excludeZHeAliquotsRegression ,\n",
    "                    AFTRegression, AFTRegressionColor,\n",
    "                    excludeAFTOutliers, excludeAFTSamplesRegression , excludeAFTAliquotsRegression ,\n",
    "                    ZFTRegression , ZFTRegressionColor ,\n",
    "                    excludeZFTOutliers, excludeZFTSamplesRegression , excludeZFTAliquotsRegression ,\n",
    "                    savefig, savefigFileName, saveFolder)"
   ]
  },
  {
   "cell_type": "markdown",
   "metadata": {},
   "source": [
    "--------"
   ]
  },
  {
   "cell_type": "markdown",
   "metadata": {},
   "source": [
    "#### <font color = royalblue>Age Versus w/ Histogram - Full Dataset or by Transect</font>\n",
    "\n",
    "This function plots Cooling Age against a user selected variable (Latitude/Longitude/Elevation/Structural Level), with a historgram of aliquot cooling ages. There is an option to plot Age on the x- or y-axis, but it must be one of the variables. The primary inputs are the `samples` and `aliquots` dataframes from Step 1. All other function inputs are defined in the cell below."
   ]
  },
  {
   "cell_type": "code",
   "execution_count": null,
   "metadata": {},
   "outputs": [],
   "source": [
    "## Set Axes and Dataset Details \n",
    "x_variable = 'Age' # 'Latitude' , 'Longitude' , 'Structural_Level' , 'Elevation_m', 'Age'\n",
    "y_variable = 'Elevation_m' # Age', 'Latitude' , 'Longitude' , 'Structural_Level' , 'Elevation_m'\n",
    "\n",
    "transect = None # None or 'transect'\n",
    "show_aliquots = True # True or False\n",
    "\n",
    "# Specify Age statistics\n",
    "weightedBy = 'unweighted' # 'unweighted' , 'inverse_variance' or 'relative_deviation'\n",
    "plot_SE = True # True or False\n",
    "SE_basedOn = 'max' # Individual Uncertainty - 'IU', Standard Deviation - 'SD', or max of the two – 'max'\n",
    "\n",
    "# Specify Histogram Details\n",
    "bin_width = 5\n",
    "\n",
    "# Specify axes range, intervals, and labels\n",
    "x_bounds = None # None or (x_min, x_max)\n",
    "y_bounds = (2500,4000) # None or (y_min, y_max)\n",
    "\n",
    "label_samples = True # True or False\n",
    "label_offset = (0,0) # format is (x_offset, y_offset) - default is (0,0)\n",
    "\n",
    "# Specify the marker style for different thermochronometers - default values shown \n",
    "AHeColor = 'cornflowerblue'\n",
    "AHeMarker = 'h'\n",
    "AHeMarkerSize = 14\n",
    "\n",
    "ZHeColor = 'firebrick'\n",
    "ZHeMarker = 'D'\n",
    "ZHeMarkerSize = 12\n",
    "\n",
    "AFTColor = 'gray'\n",
    "AFTMarker = '^'\n",
    "AFTMarkerSize = 12\n",
    "\n",
    "ZFTColor = 'forestgreen'\n",
    "ZFTMarker = 'o'\n",
    "ZFTMarkerSize = 12\n",
    "\n",
    "# Sample Regressions \n",
    "AHe_regression = False # True or False - plot the regression line and CI window for the transect\n",
    "excludeAHeOutliers = False # True or False - Exclude ALL outliers from regression\n",
    "excludeAHeSamplesRegression = None # List of specific samples to exclude from regression or None in list []\n",
    "excludeAHeAliquotsRegression = None # List of specific aliquots to exclude from regression or None \n",
    "AHeRegressionColor = 'lightsteelblue'\n",
    "\n",
    "ZHe_regression = False # True or False - plot the regression line and CI window for the transect\n",
    "excludeZHeOutliers = False # True or False - Exclude ALL outliers from regression\n",
    "excludeZHeSamplesRegression = None # List of specific samples to exclude from regression or None\n",
    "excludeZHeAliquotsRegression = None # List of specific aliquots to exclude from regression or None \n",
    "ZHeRegressionColor = 'thistle'\n",
    "\n",
    "AFTRegression = False # True or False - plot the regression line and CI window for the transect\n",
    "excludeAFTOutliers = False # True or False - Exclude ALL outliers from regression\n",
    "excludeAFTSamplesRegression = None # List of specific samples to exclude from regression or None\n",
    "excludeAFTAliquotsRegression = None # List of specific aliquots to exclude from regression or None \n",
    "AFTRegressionColor = 'gainsboro'\n",
    "\n",
    "ZFTRegression = False # True or False - plot the regression line and CI window for the transect\n",
    "excludeZFTOutliers = False # True or False - Exclude ALL outliers from regression\n",
    "excludeZFTSamplesRegression = None # List of specific samples to exclude from regression or None\n",
    "excludeZFTAliquotsRegression = None # List of specific aliquots to exclude from regression or None \n",
    "ZFTRegressionColor = 'lightgreen'\n",
    "\n",
    "# Save Figure \n",
    "savefig = False\n",
    "savefigFileName = 'Age_versus_Elevation_histogram' # None or specific file name \n",
    "saveFolder = 'example_plots' # None or specific folder name"
   ]
  },
  {
   "cell_type": "code",
   "execution_count": null,
   "metadata": {},
   "outputs": [],
   "source": [
    "tFunc.plotAgeVersus_wHistogram(samples, aliquots, x_variable, y_variable, transect, show_aliquots, \n",
    "                               weightedBy, plot_SE, SE_basedOn, \n",
    "                               x_bounds, y_bounds,\n",
    "                               label_samples, label_offset, bin_width,\n",
    "                               AHeColor,  AHeMarker, AHeMarkerSize,\n",
    "                               ZHeColor, ZHeMarker, ZHeMarkerSize,\n",
    "                               AFTColor, AFTMarker, AFTMarkerSize,\n",
    "                               ZFTColor, ZFTMarker, ZFTMarkerSize,\n",
    "                               AHe_regression, AHeRegressionColor,\n",
    "                               excludeAHeOutliers, excludeAHeSamplesRegression , excludeAHeAliquotsRegression ,\n",
    "                               ZHe_regression , ZHeRegressionColor ,\n",
    "                               excludeZHeOutliers, excludeZHeSamplesRegression , excludeZHeAliquotsRegression ,\n",
    "                               AFTRegression, AFTRegressionColor,\n",
    "                               excludeAFTOutliers, excludeAFTSamplesRegression , excludeAFTAliquotsRegression ,\n",
    "                               ZFTRegression , ZFTRegressionColor ,\n",
    "                               excludeZFTOutliers, excludeZFTSamplesRegression , excludeZFTAliquotsRegression ,\n",
    "                               savefig, savefigFileName, saveFolder)"
   ]
  },
  {
   "cell_type": "markdown",
   "metadata": {},
   "source": [
    "--------"
   ]
  },
  {
   "cell_type": "markdown",
   "metadata": {},
   "source": [
    "### 2.2 Age-X-Axis Zoom Functions\n",
    "The following functions always place cooling age on the x-axis and provide zoom-in capabilities to examine both the full age range and a detailed view of a specified age range.\n",
    "\n",
    "#### <font color = royalblue>Age Versus with Zoom-in - Full Dataset or by Transect</font>\n",
    "\n",
    "This function plots with Age against a user selected variable (Latitude/Longitude/Elevation/Structural Level), with a zoom-in plot and the option to run a regression for each of the chronometers. You can plot by transect or the full dataset. The primary inputs are the `samples` and `aliquots` dataframes from Step 1.\n",
    "\n",
    "Run the below cell to get a full list of transects in the dataset."
   ]
  },
  {
   "cell_type": "code",
   "execution_count": null,
   "metadata": {},
   "outputs": [],
   "source": [
    "transect_list"
   ]
  },
  {
   "cell_type": "markdown",
   "metadata": {},
   "source": [
    "All other inputs to this function are defined below:"
   ]
  },
  {
   "cell_type": "code",
   "execution_count": null,
   "metadata": {},
   "outputs": [],
   "source": [
    "# Set Axes and Dataset Details \n",
    "transect = 'AN' # '<transect>' or None\n",
    "y_variable = 'Elevation_m' # 'Elevation_m', 'Structural_Level', 'Latitude' , 'Longitude' \n",
    "\n",
    "# Specify Age statistics\n",
    "weightedBy = 'unweighted' # 'unweighted' , 'inverse_variance' or 'relative_deviation'\n",
    "plot_SE = True # True or False\n",
    "SE_basedOn = 'max' # Individual Uncertainty - 'IU', Standard Deviation - 'SD', or max of the two – 'max'\n",
    "\n",
    "# Specify axes range, intervals, and labels\n",
    "inset_xlim = 100 # set the upper limit of the x-axis on the zoom-in plot\n",
    "full_x_bounds = None # None or (x_min, x_max) for larger plot\n",
    "y_bounds = (2500,4000) # None or (y_min, y_max)\n",
    "\n",
    "inset_x_interval = 25 # set the x-interval for the inset\n",
    "full_x_interval = 50 # set the x-interval for the larger plot\n",
    "\n",
    "label_samples = True # True or False\n",
    "label_offset = (0,0) # Set the (x,y) offset of the sample labels to get best positioning; default is (5,5)\n",
    "\n",
    "# Specify the marker style for different thermochronometers - default values shown \n",
    "AHeColor = 'cornflowerblue'\n",
    "AHeMarker = 'h'\n",
    "AHeMarkerSize = 12\n",
    "\n",
    "ZHeColor = 'firebrick'\n",
    "ZHeMarker = 'D'\n",
    "ZHeMarkerSize = 10\n",
    "\n",
    "AFTColor = 'gray'\n",
    "AFTMarker = '^'\n",
    "AFTMarkerSize = 12\n",
    "\n",
    "ZFTColor = 'forestgreen'\n",
    "ZFTMarker = 'o'\n",
    "ZFTMarkerSize = 12\n",
    "\n",
    "\n",
    "# Sample Regressions \n",
    "AHe_regression = False # True or False - plot the regression line and CI window for the transect\n",
    "excludeAHeOutliers = False # True or False - Exclude ALL outliers from regression\n",
    "excludeAHeSamplesRegression = None # List of specific samples to exclude from regression or None in list []\n",
    "excludeAHeAliquotsRegression = None # List of specific aliquots to exclude from regression or None \n",
    "AHeRegressionColor = 'lightsteelblue'\n",
    "\n",
    "ZHe_regression = False # True or False - plot the regression line and CI window for the transect\n",
    "excludeZHeOutliers = False # True or False - Exclude ALL outliers from regression\n",
    "excludeZHeSamplesRegression = None # List of specific samples to exclude from regression or None\n",
    "excludeZHeAliquotsRegression = None # List of specific aliquots to exclude from regression or None \n",
    "ZHeRegressionColor = 'thistle'\n",
    "\n",
    "AFTRegression = False # True or False - plot the regression line and CI window for the transect\n",
    "excludeAFTOutliers = False # True or False - Exclude ALL outliers from regression\n",
    "excludeAFTSamplesRegression = None # List of specific samples to exclude from regression or None\n",
    "excludeAFTAliquotsRegression = None # List of specific aliquots to exclude from regression or None \n",
    "AFTRegressionColor = 'gainsboro'\n",
    "\n",
    "ZFTRegression = False # True or False - plot the regression line and CI window for the transect\n",
    "excludeZFTOutliers = False # True or False - Exclude ALL outliers from regression\n",
    "excludeZFTSamplesRegression = None # List of specific samples to exclude from regression or None\n",
    "excludeZFTAliquotsRegression = None # List of specific aliquots to exclude from regression or None \n",
    "ZFTRegressionColor = 'lightgreen'\n",
    "\n",
    "# Save Figure \n",
    "savefig = False # True or False\n",
    "savefigFileName = 'Age_versus_Elevation_Regression' # None or specific file name - if None will be saved with name of transect\n",
    "saveFolder = 'example_plots' # None or specific folder name"
   ]
  },
  {
   "cell_type": "code",
   "execution_count": null,
   "metadata": {},
   "outputs": [],
   "source": [
    "tFunc.plot_AgeVersus_wZoomIn(samples, aliquots, transect, y_variable,\n",
    "                        inset_xlim, full_x_bounds, y_bounds,\n",
    "                        inset_x_interval, full_x_interval, \n",
    "                        weightedBy, plot_SE, SE_basedOn,\n",
    "                        label_samples, label_offset,\n",
    "                        AHeColor , AHeMarker , AHeMarkerSize ,\n",
    "                        ZHeColor , ZHeMarker , ZHeMarkerSize ,\n",
    "                        AFTColor,  AFTMarker, AFTMarkerSize,\n",
    "                        ZFTColor, ZFTMarker, ZFTMarkerSize,\n",
    "                        AHe_regression, AHeRegressionColor,\n",
    "                        excludeAHeOutliers, excludeAHeSamplesRegression , excludeAHeAliquotsRegression ,\n",
    "                        ZHe_regression , ZHeRegressionColor ,\n",
    "                        excludeZHeOutliers, excludeZHeSamplesRegression , excludeZHeAliquotsRegression ,\n",
    "                        AFTRegression, AFTRegressionColor,\n",
    "                        excludeAFTOutliers, excludeAFTSamplesRegression , excludeAFTAliquotsRegression ,\n",
    "                        ZFTRegression , ZFTRegressionColor ,\n",
    "                        excludeZFTOutliers, excludeZFTSamplesRegression , excludeZFTAliquotsRegression ,\n",
    "                        savefig, savefigFileName, saveFolder)"
   ]
  },
  {
   "cell_type": "markdown",
   "metadata": {},
   "source": [
    "--------"
   ]
  },
  {
   "cell_type": "markdown",
   "metadata": {},
   "source": [
    "#### <font color = royalblue>Age Versus with Histogram and Zoom-In - Full Dataset or by Transect</font>\n",
    "\n",
    "The primary inputs are the `samples` and `aliquots` dataframes from Step 1. All other inputs to this function are defined in the cell below."
   ]
  },
  {
   "cell_type": "code",
   "execution_count": null,
   "metadata": {},
   "outputs": [],
   "source": [
    "transect_list"
   ]
  },
  {
   "cell_type": "code",
   "execution_count": null,
   "metadata": {},
   "outputs": [],
   "source": [
    "# Set Axes and Dataset Details \n",
    "transect = 'AN' # '<transect>' or None\n",
    "y_variable = 'Elevation_m' # Latitude, Longitude, Elevation_m, Structural_Level\n",
    "\n",
    "# Specify axes range and intervals\n",
    "inset_xlim = 50\n",
    "full_x_bounds = None\n",
    "y_bounds = None\n",
    "\n",
    "inset_x_interval = 10\n",
    "full_x_interval = 25\n",
    "\n",
    "# Specify Age statistics\n",
    "weightedBy = 'unweighted' # 'unweighted' , 'inverse_variance' or 'relative_deviation'\n",
    "plot_SE = True # True or False\n",
    "SE_basedOn = 'SD' # Individual Uncertainty - 'IU', Standard Deviation - 'SD', or max of the two – 'max'\n",
    "\n",
    "# Specify Histogram setup/statistics\n",
    "insetBinWidth = 2\n",
    "fullBinWidth = 5\n",
    "\n",
    "stat = 'count' # Options are 'count', 'density', 'probability', or 'frequency'\n",
    "kde = True # True or False\n",
    "histLegend = True # True or False\n",
    "\n",
    "# Specify the marker style for different thermochronometers - default values shown \n",
    "AHeColor = 'cornflowerblue'\n",
    "AHeMarker = 'h'\n",
    "AHeMarkerSize = 10\n",
    "\n",
    "ZHeColor = 'firebrick'\n",
    "ZHeMarker = 'D'\n",
    "ZHeMarkerSize = 8\n",
    "\n",
    "AFTColor = 'gray'\n",
    "AFTMarker = '^'\n",
    "AFTMarkerSize = 12\n",
    "\n",
    "ZFTColor = 'forestgreen'\n",
    "ZFTMarker = 'o'\n",
    "ZFTMarkerSize = 12\n",
    "\n",
    "# Sample Regressions \n",
    "AHe_Regression = False # True or False\n",
    "AHeRegressionColor = 'lightsteelblue'\n",
    "excludeAHeSamples = None # None or List of samples e.g ['<sample_1>', '<sample_2>', ...]\n",
    "\n",
    "ZHe_Regression = False # True or False\n",
    "ZHeRegressionColor = 'thistle'\n",
    "excludeZHeSamples = None # None or List of samples e.g ['<sample_1>', '<sample_2>', ...]\n",
    "\n",
    "AFTRegression = False # True or False\n",
    "AFTRegressionColor = 'gainsboro'\n",
    "excludeAFTSamples = None # None or List of samples e.g ['<sample_1>', '<sample_2>', ...]\n",
    "\n",
    "ZFTRegression = False # True or False\n",
    "ZFTRegressionColor = 'lightgreen'\n",
    "excludeZFTSamples = None # None or List of samples e.g ['<sample_1>', '<sample_2>', ...]\n",
    "\n",
    "# Optional Labels and Depositional Ages\n",
    "label_transects = True # True or False -  better option for Latitude/Longitude\n",
    "\n",
    "separateZrLabels = False # True or False\n",
    "\n",
    "plotDepoAges = False # True or False - Not recommended for Elevation_m, Structural_Level\n",
    "\n",
    "# Save Figure \n",
    "savefig = False # True or False\n",
    "savefigFileName = 'Age_versus_Elevation_Regression_Histogram' # None or specific file name - if None will be saved with name of transect\n",
    "saveFolder = 'example_plots' # None or specific folder name"
   ]
  },
  {
   "cell_type": "code",
   "execution_count": null,
   "metadata": {},
   "outputs": [],
   "source": [
    "tFunc.plot_AgeVersus_wHistogram_wZoomIn(samples, aliquots, transect, y_variable, inset_xlim, inset_x_interval, \n",
    "                       full_x_interval, full_x_bounds, y_bounds, \n",
    "                       weightedBy, plot_SE, SE_basedOn,                     \n",
    "                       insetBinWidth, fullBinWidth, \n",
    "                       stat, kde, histLegend,\n",
    "                       AHeColor, AHeMarker, AHeMarkerSize,\n",
    "                       ZHeColor, ZHeMarker, ZHeMarkerSize,\n",
    "                       AFTColor, AFTMarker, AFTMarkerSize,\n",
    "                       ZFTColor, ZFTMarker, ZFTMarkerSize,\n",
    "                       AHe_Regression, AHeRegressionColor, excludeAHeSamples,\n",
    "                       ZHe_Regression, ZHeRegressionColor, excludeZHeSamples,\n",
    "                       AFTRegression, AFTRegressionColor, excludeAFTSamples,\n",
    "                       ZFTRegression, ZFTRegressionColor, excludeZFTSamples,\n",
    "                       label_transects, separateZrLabels, plotDepoAges,\n",
    "                       savefig, savefigFileName, saveFolder)"
   ]
  },
  {
   "cell_type": "code",
   "execution_count": null,
   "metadata": {},
   "outputs": [],
   "source": []
  },
  {
   "cell_type": "code",
   "execution_count": null,
   "metadata": {},
   "outputs": [],
   "source": []
  }
 ],
 "metadata": {
  "kernelspec": {
   "display_name": "Python 3 (ipykernel)",
   "language": "python",
   "name": "python3"
  },
  "language_info": {
   "codemirror_mode": {
    "name": "ipython",
    "version": 3
   },
   "file_extension": ".py",
   "mimetype": "text/x-python",
   "name": "python",
   "nbconvert_exporter": "python",
   "pygments_lexer": "ipython3",
   "version": "3.11.7"
  }
 },
 "nbformat": 4,
 "nbformat_minor": 4
}
